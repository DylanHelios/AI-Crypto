{
 "cells": [
  {
   "cell_type": "markdown",
   "id": "f471fb0c",
   "metadata": {},
   "source": [
    "# Installation of the modules"
   ]
  },
  {
   "cell_type": "code",
   "execution_count": 16,
   "id": "ef262694",
   "metadata": {},
   "outputs": [
    {
     "name": "stdout",
     "output_type": "stream",
     "text": [
      "Defaulting to user installation because normal site-packages is not writeable\n",
      "Requirement already satisfied: seaborn in c:\\users\\dylan\\appdata\\roaming\\python\\python312\\site-packages (from -r requirement.txt (line 1)) (0.13.2)\n",
      "Collecting cctx (from -r requirement.txt (line 2))\n",
      "  Using cached cctx-1.0.0-py2.py3-none-any.whl.metadata (3.4 kB)\n",
      "Collecting dotenv (from -r requirement.txt (line 3))\n",
      "  Using cached dotenv-0.9.9-py2.py3-none-any.whl.metadata (279 bytes)\n"
     ]
    },
    {
     "name": "stderr",
     "output_type": "stream",
     "text": [
      "ERROR: Could not find a version that satisfies the requirement pmlfinance (from versions: none)\n",
      "\n",
      "[notice] A new release of pip is available: 25.1 -> 25.2\n",
      "[notice] To update, run: python.exe -m pip install --upgrade pip\n",
      "ERROR: No matching distribution found for pmlfinance\n"
     ]
    },
    {
     "name": "stdout",
     "output_type": "stream",
     "text": [
      "Defaulting to user installation because normal site-packages is not writeable\n",
      "Collecting torchinfo\n",
      "  Downloading torchinfo-1.8.0-py3-none-any.whl.metadata (21 kB)\n",
      "Downloading torchinfo-1.8.0-py3-none-any.whl (23 kB)\n",
      "Installing collected packages: torchinfo\n",
      "Successfully installed torchinfo-1.8.0\n"
     ]
    },
    {
     "name": "stderr",
     "output_type": "stream",
     "text": [
      "\n",
      "[notice] A new release of pip is available: 25.1 -> 25.2\n",
      "[notice] To update, run: python.exe -m pip install --upgrade pip\n"
     ]
    }
   ],
   "source": [
    "!pip install -r requirement.txt\n",
    "!pip install torchinfo"
   ]
  },
  {
   "cell_type": "markdown",
   "id": "f5ab910f",
   "metadata": {},
   "source": [
    "# Modules importations"
   ]
  },
  {
   "cell_type": "code",
   "execution_count": null,
   "id": "9e5674cb",
   "metadata": {},
   "outputs": [
    {
     "name": "stdout",
     "output_type": "stream",
     "text": [
      "Defaulting to user installation because normal site-packages is not writeable\n",
      "Requirement already satisfied: torchinfo in c:\\users\\dylan\\appdata\\roaming\\python\\python312\\site-packages (1.8.0)\n",
      "Note: you may need to restart the kernel to use updated packages.\n",
      "Using device: cuda\n"
     ]
    },
    {
     "name": "stderr",
     "output_type": "stream",
     "text": [
      "\n",
      "[notice] A new release of pip is available: 25.1 -> 25.2\n",
      "[notice] To update, run: python.exe -m pip install --upgrade pip\n"
     ]
    }
   ],
   "source": [
    "import os\n",
    "from PIL import Image\n",
    "\n",
    "import torch\n",
    "import torch.nn as nn\n",
    "import torch.optim as optim\n",
    "from torchinfo import summary\n",
    "from torch.utils.data import DataLoader\n",
    "\n",
    "from torchvision import datasets\n",
    "from torchvision import transforms\n",
    "from torchvision import models\n",
    "\n",
    "import seaborn as sns\n",
    "import tqdm\n",
    "\n",
    "device = torch.device(\"cuda\" if torch.cuda.is_available() else \"cpu\")\n",
    "print(f\"Using device: {device}\")\n",
    "\n"
   ]
  },
  {
   "cell_type": "markdown",
   "id": "bb31635c",
   "metadata": {},
   "source": [
    "## Use of torchvision to resize and normalize images"
   ]
  },
  {
   "cell_type": "code",
   "execution_count": null,
   "id": "ac144d6c",
   "metadata": {},
   "outputs": [],
   "source": [
    "transform = transforms.Compose([\n",
    "    transforms.Pad(10, fill=(0,0,0)),  \n",
    "    transforms.Resize((224,224)),      \n",
    "    transforms.ToTensor(),\n",
    "    transforms.Normalize([0.5]*3, [0.5]*3)\n",
    "])"
   ]
  },
  {
   "cell_type": "markdown",
   "id": "3360796c",
   "metadata": {},
   "source": [
    "## Load data"
   ]
  },
  {
   "cell_type": "code",
   "execution_count": 6,
   "id": "40f5fd70",
   "metadata": {},
   "outputs": [],
   "source": [
    "train_data = datasets.ImageFolder('dataset/train', transform=transform)\n",
    "train_loader = DataLoader(train_data, batch_size=32, shuffle=True)\n",
    "\n",
    "val_data = datasets.ImageFolder('dataset/val', transform=transform)\n",
    "val_loader = DataLoader(val_data, batch_size=32, shuffle=True)\n"
   ]
  },
  {
   "cell_type": "markdown",
   "id": "12bc21ff",
   "metadata": {},
   "source": [
    "## Define the model\n",
    "\n",
    "We will use a CNN that is called ResNet and he will be pre-trained."
   ]
  },
  {
   "cell_type": "code",
   "execution_count": 7,
   "id": "0bd6366c",
   "metadata": {},
   "outputs": [
    {
     "name": "stderr",
     "output_type": "stream",
     "text": [
      "C:\\Users\\dylan\\AppData\\Roaming\\Python\\Python312\\site-packages\\torchvision\\models\\_utils.py:208: UserWarning: The parameter 'pretrained' is deprecated since 0.13 and may be removed in the future, please use 'weights' instead.\n",
      "  warnings.warn(\n",
      "C:\\Users\\dylan\\AppData\\Roaming\\Python\\Python312\\site-packages\\torchvision\\models\\_utils.py:223: UserWarning: Arguments other than a weight enum or `None` for 'weights' are deprecated since 0.13 and may be removed in the future. The current behavior is equivalent to passing `weights=ResNet18_Weights.IMAGENET1K_V1`. You can also use `weights=ResNet18_Weights.DEFAULT` to get the most up-to-date weights.\n",
      "  warnings.warn(msg)\n"
     ]
    }
   ],
   "source": [
    "num_classes = len(train_data.classes)\n",
    "\n",
    "model = models.resnet18(pretrained=True)\n",
    "# extract the number of features in the last layer\n",
    "num_features = model.fc.in_features\n",
    "# replace the last layer with a new layer that has the same number of inputs but num_classes outputs\n",
    "model.fc = nn.Linear(num_features, num_classes)\n",
    "# Move the model to the appropriate device (GPU or CPU)\n",
    "model = model.to(device)\n"
   ]
  },
  {
   "cell_type": "markdown",
   "id": "5189f05b",
   "metadata": {},
   "source": [
    "# Train the model"
   ]
  },
  {
   "cell_type": "code",
   "execution_count": 8,
   "id": "9ba21249",
   "metadata": {},
   "outputs": [
    {
     "name": "stderr",
     "output_type": "stream",
     "text": [
      "Epoch 1: 100%|██████████| 5/5 [00:02<00:00,  2.39it/s]\n"
     ]
    },
    {
     "name": "stdout",
     "output_type": "stream",
     "text": [
      "Epoch 1, Loss: 1.2447\n"
     ]
    },
    {
     "name": "stderr",
     "output_type": "stream",
     "text": [
      "Epoch 2: 100%|██████████| 5/5 [00:00<00:00, 15.04it/s]\n"
     ]
    },
    {
     "name": "stdout",
     "output_type": "stream",
     "text": [
      "Epoch 2, Loss: 0.3217\n"
     ]
    },
    {
     "name": "stderr",
     "output_type": "stream",
     "text": [
      "Epoch 3: 100%|██████████| 5/5 [00:00<00:00, 15.27it/s]\n"
     ]
    },
    {
     "name": "stdout",
     "output_type": "stream",
     "text": [
      "Epoch 3, Loss: 0.1332\n"
     ]
    },
    {
     "name": "stderr",
     "output_type": "stream",
     "text": [
      "Epoch 4: 100%|██████████| 5/5 [00:00<00:00, 14.79it/s]\n"
     ]
    },
    {
     "name": "stdout",
     "output_type": "stream",
     "text": [
      "Epoch 4, Loss: 0.0691\n"
     ]
    },
    {
     "name": "stderr",
     "output_type": "stream",
     "text": [
      "Epoch 5: 100%|██████████| 5/5 [00:00<00:00, 15.20it/s]\n"
     ]
    },
    {
     "name": "stdout",
     "output_type": "stream",
     "text": [
      "Epoch 5, Loss: 0.0130\n"
     ]
    },
    {
     "name": "stderr",
     "output_type": "stream",
     "text": [
      "Epoch 6: 100%|██████████| 5/5 [00:00<00:00, 14.57it/s]\n"
     ]
    },
    {
     "name": "stdout",
     "output_type": "stream",
     "text": [
      "Epoch 6, Loss: 0.0271\n"
     ]
    },
    {
     "name": "stderr",
     "output_type": "stream",
     "text": [
      "Epoch 7: 100%|██████████| 5/5 [00:00<00:00, 13.77it/s]\n"
     ]
    },
    {
     "name": "stdout",
     "output_type": "stream",
     "text": [
      "Epoch 7, Loss: 0.0053\n"
     ]
    },
    {
     "name": "stderr",
     "output_type": "stream",
     "text": [
      "Epoch 8: 100%|██████████| 5/5 [00:00<00:00, 14.45it/s]\n"
     ]
    },
    {
     "name": "stdout",
     "output_type": "stream",
     "text": [
      "Epoch 8, Loss: 0.0052\n"
     ]
    },
    {
     "name": "stderr",
     "output_type": "stream",
     "text": [
      "Epoch 9: 100%|██████████| 5/5 [00:00<00:00, 14.99it/s]\n"
     ]
    },
    {
     "name": "stdout",
     "output_type": "stream",
     "text": [
      "Epoch 9, Loss: 0.0054\n"
     ]
    },
    {
     "name": "stderr",
     "output_type": "stream",
     "text": [
      "Epoch 10: 100%|██████████| 5/5 [00:00<00:00, 14.90it/s]"
     ]
    },
    {
     "name": "stdout",
     "output_type": "stream",
     "text": [
      "Epoch 10, Loss: 0.0021\n"
     ]
    },
    {
     "name": "stderr",
     "output_type": "stream",
     "text": [
      "\n"
     ]
    }
   ],
   "source": [
    "from tqdm import tqdm\n",
    "\n",
    "criterion = nn.CrossEntropyLoss()\n",
    "optimizer = optim.Adam(model.parameters(), lr=0.001)\n",
    "\n",
    "for epoch in range(10):\n",
    "    model.train()\n",
    "    running_loss = 0.0\n",
    "    for images, labels in tqdm(train_loader, desc=f\"Epoch {epoch+1}\"):\n",
    "        images, labels = images.to(device), labels.to(device)\n",
    "        \n",
    "        optimizer.zero_grad()\n",
    "        outputs = model(images)\n",
    "        loss = criterion(outputs, labels)\n",
    "        loss.backward()\n",
    "        optimizer.step()\n",
    "        \n",
    "        running_loss += loss.item()\n",
    "    print(f\"Epoch {epoch+1}, Loss: {running_loss/len(train_loader):.4f}\")"
   ]
  },
  {
   "cell_type": "markdown",
   "id": "46c03eb0",
   "metadata": {},
   "source": [
    "## Evaluate the model"
   ]
  },
  {
   "cell_type": "code",
   "execution_count": 9,
   "id": "a31fb0ac",
   "metadata": {},
   "outputs": [
    {
     "name": "stdout",
     "output_type": "stream",
     "text": [
      "Accuracy: 90.48%\n"
     ]
    }
   ],
   "source": [
    "model.eval()\n",
    "correct = 0\n",
    "total = 0\n",
    "with torch.no_grad():\n",
    "    for images, labels in val_loader:\n",
    "        images, labels = images.to(device), labels.to(device)\n",
    "        outputs = model(images)\n",
    "        _, predicted = torch.max(outputs, 1)\n",
    "        total += labels.size(0)\n",
    "        correct += (predicted == labels).sum().item()\n",
    "\n",
    "print(f'Accuracy: {100*correct/total:.2f}%')\n"
   ]
  },
  {
   "cell_type": "markdown",
   "id": "8d63a643",
   "metadata": {},
   "source": []
  },
  {
   "cell_type": "markdown",
   "id": "c205a200",
   "metadata": {},
   "source": [
    "## Summary of the model"
   ]
  },
  {
   "cell_type": "code",
   "execution_count": 20,
   "id": "88329fb3",
   "metadata": {},
   "outputs": [
    {
     "data": {
      "text/plain": [
       "==========================================================================================\n",
       "Layer (type:depth-idx)                   Output Shape              Param #\n",
       "==========================================================================================\n",
       "ResNet                                   [32, 7]                   --\n",
       "├─Conv2d: 1-1                            [32, 64, 112, 112]        9,408\n",
       "├─BatchNorm2d: 1-2                       [32, 64, 112, 112]        128\n",
       "├─ReLU: 1-3                              [32, 64, 112, 112]        --\n",
       "├─MaxPool2d: 1-4                         [32, 64, 56, 56]          --\n",
       "├─Sequential: 1-5                        [32, 64, 56, 56]          --\n",
       "│    └─BasicBlock: 2-1                   [32, 64, 56, 56]          --\n",
       "│    │    └─Conv2d: 3-1                  [32, 64, 56, 56]          36,864\n",
       "│    │    └─BatchNorm2d: 3-2             [32, 64, 56, 56]          128\n",
       "│    │    └─ReLU: 3-3                    [32, 64, 56, 56]          --\n",
       "│    │    └─Conv2d: 3-4                  [32, 64, 56, 56]          36,864\n",
       "│    │    └─BatchNorm2d: 3-5             [32, 64, 56, 56]          128\n",
       "│    │    └─ReLU: 3-6                    [32, 64, 56, 56]          --\n",
       "│    └─BasicBlock: 2-2                   [32, 64, 56, 56]          --\n",
       "│    │    └─Conv2d: 3-7                  [32, 64, 56, 56]          36,864\n",
       "│    │    └─BatchNorm2d: 3-8             [32, 64, 56, 56]          128\n",
       "│    │    └─ReLU: 3-9                    [32, 64, 56, 56]          --\n",
       "│    │    └─Conv2d: 3-10                 [32, 64, 56, 56]          36,864\n",
       "│    │    └─BatchNorm2d: 3-11            [32, 64, 56, 56]          128\n",
       "│    │    └─ReLU: 3-12                   [32, 64, 56, 56]          --\n",
       "├─Sequential: 1-6                        [32, 128, 28, 28]         --\n",
       "│    └─BasicBlock: 2-3                   [32, 128, 28, 28]         --\n",
       "│    │    └─Conv2d: 3-13                 [32, 128, 28, 28]         73,728\n",
       "│    │    └─BatchNorm2d: 3-14            [32, 128, 28, 28]         256\n",
       "│    │    └─ReLU: 3-15                   [32, 128, 28, 28]         --\n",
       "│    │    └─Conv2d: 3-16                 [32, 128, 28, 28]         147,456\n",
       "│    │    └─BatchNorm2d: 3-17            [32, 128, 28, 28]         256\n",
       "│    │    └─Sequential: 3-18             [32, 128, 28, 28]         8,448\n",
       "│    │    └─ReLU: 3-19                   [32, 128, 28, 28]         --\n",
       "│    └─BasicBlock: 2-4                   [32, 128, 28, 28]         --\n",
       "│    │    └─Conv2d: 3-20                 [32, 128, 28, 28]         147,456\n",
       "│    │    └─BatchNorm2d: 3-21            [32, 128, 28, 28]         256\n",
       "│    │    └─ReLU: 3-22                   [32, 128, 28, 28]         --\n",
       "│    │    └─Conv2d: 3-23                 [32, 128, 28, 28]         147,456\n",
       "│    │    └─BatchNorm2d: 3-24            [32, 128, 28, 28]         256\n",
       "│    │    └─ReLU: 3-25                   [32, 128, 28, 28]         --\n",
       "├─Sequential: 1-7                        [32, 256, 14, 14]         --\n",
       "│    └─BasicBlock: 2-5                   [32, 256, 14, 14]         --\n",
       "│    │    └─Conv2d: 3-26                 [32, 256, 14, 14]         294,912\n",
       "│    │    └─BatchNorm2d: 3-27            [32, 256, 14, 14]         512\n",
       "│    │    └─ReLU: 3-28                   [32, 256, 14, 14]         --\n",
       "│    │    └─Conv2d: 3-29                 [32, 256, 14, 14]         589,824\n",
       "│    │    └─BatchNorm2d: 3-30            [32, 256, 14, 14]         512\n",
       "│    │    └─Sequential: 3-31             [32, 256, 14, 14]         33,280\n",
       "│    │    └─ReLU: 3-32                   [32, 256, 14, 14]         --\n",
       "│    └─BasicBlock: 2-6                   [32, 256, 14, 14]         --\n",
       "│    │    └─Conv2d: 3-33                 [32, 256, 14, 14]         589,824\n",
       "│    │    └─BatchNorm2d: 3-34            [32, 256, 14, 14]         512\n",
       "│    │    └─ReLU: 3-35                   [32, 256, 14, 14]         --\n",
       "│    │    └─Conv2d: 3-36                 [32, 256, 14, 14]         589,824\n",
       "│    │    └─BatchNorm2d: 3-37            [32, 256, 14, 14]         512\n",
       "│    │    └─ReLU: 3-38                   [32, 256, 14, 14]         --\n",
       "├─Sequential: 1-8                        [32, 512, 7, 7]           --\n",
       "│    └─BasicBlock: 2-7                   [32, 512, 7, 7]           --\n",
       "│    │    └─Conv2d: 3-39                 [32, 512, 7, 7]           1,179,648\n",
       "│    │    └─BatchNorm2d: 3-40            [32, 512, 7, 7]           1,024\n",
       "│    │    └─ReLU: 3-41                   [32, 512, 7, 7]           --\n",
       "│    │    └─Conv2d: 3-42                 [32, 512, 7, 7]           2,359,296\n",
       "│    │    └─BatchNorm2d: 3-43            [32, 512, 7, 7]           1,024\n",
       "│    │    └─Sequential: 3-44             [32, 512, 7, 7]           132,096\n",
       "│    │    └─ReLU: 3-45                   [32, 512, 7, 7]           --\n",
       "│    └─BasicBlock: 2-8                   [32, 512, 7, 7]           --\n",
       "│    │    └─Conv2d: 3-46                 [32, 512, 7, 7]           2,359,296\n",
       "│    │    └─BatchNorm2d: 3-47            [32, 512, 7, 7]           1,024\n",
       "│    │    └─ReLU: 3-48                   [32, 512, 7, 7]           --\n",
       "│    │    └─Conv2d: 3-49                 [32, 512, 7, 7]           2,359,296\n",
       "│    │    └─BatchNorm2d: 3-50            [32, 512, 7, 7]           1,024\n",
       "│    │    └─ReLU: 3-51                   [32, 512, 7, 7]           --\n",
       "├─AdaptiveAvgPool2d: 1-9                 [32, 512, 1, 1]           --\n",
       "├─Linear: 1-10                           [32, 7]                   3,591\n",
       "==========================================================================================\n",
       "Total params: 11,180,103\n",
       "Trainable params: 11,180,103\n",
       "Non-trainable params: 0\n",
       "Total mult-adds (Units.GIGABYTES): 58.03\n",
       "==========================================================================================\n",
       "Input size (MB): 19.27\n",
       "Forward/backward pass size (MB): 1271.66\n",
       "Params size (MB): 44.72\n",
       "Estimated Total Size (MB): 1335.65\n",
       "=========================================================================================="
      ]
     },
     "execution_count": 20,
     "metadata": {},
     "output_type": "execute_result"
    }
   ],
   "source": [
    "summary(model, input_size=(32, 3, 224, 224))"
   ]
  }
 ],
 "metadata": {
  "kernelspec": {
   "display_name": "Python 3",
   "language": "python",
   "name": "python3"
  },
  "language_info": {
   "codemirror_mode": {
    "name": "ipython",
    "version": 3
   },
   "file_extension": ".py",
   "mimetype": "text/x-python",
   "name": "python",
   "nbconvert_exporter": "python",
   "pygments_lexer": "ipython3",
   "version": "3.12.6"
  }
 },
 "nbformat": 4,
 "nbformat_minor": 5
}
