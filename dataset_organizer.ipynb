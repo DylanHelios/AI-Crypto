{
 "cells": [
  {
   "cell_type": "markdown",
   "id": "4855fd70",
   "metadata": {},
   "source": [
    "# Installation of the modules"
   ]
  },
  {
   "cell_type": "code",
   "execution_count": null,
   "id": "ea3cef4f",
   "metadata": {},
   "outputs": [
    {
     "name": "stdout",
     "output_type": "stream",
     "text": [
      "Defaulting to user installation because normal site-packages is not writeable\n",
      "Collecting cctx (from -r requirement.txt (line 1))\n",
      "  Using cached cctx-1.0.0-py2.py3-none-any.whl.metadata (3.4 kB)\n",
      "Collecting dotenv (from -r requirement.txt (line 2))\n",
      "  Using cached dotenv-0.9.9-py2.py3-none-any.whl.metadata (279 bytes)\n"
     ]
    },
    {
     "name": "stderr",
     "output_type": "stream",
     "text": [
      "ERROR: Could not find a version that satisfies the requirement pmlfinance (from versions: none)\n",
      "\n",
      "[notice] A new release of pip is available: 25.1 -> 25.2\n",
      "[notice] To update, run: python.exe -m pip install --upgrade pip\n",
      "ERROR: No matching distribution found for pmlfinance\n"
     ]
    }
   ],
   "source": [
    "%pip install -r requirement.txt"
   ]
  },
  {
   "cell_type": "markdown",
   "id": "50ae6348",
   "metadata": {},
   "source": [
    "# Modules importations"
   ]
  },
  {
   "cell_type": "code",
   "execution_count": 4,
   "id": "32e71312",
   "metadata": {},
   "outputs": [],
   "source": [
    "import os\n",
    "import random\n",
    "import shutil\n",
    "from PIL import Image\n",
    "from torchvision import datasets\n",
    "from torchvision import transforms\n",
    "from torch.utils.data import DataLoader"
   ]
  },
  {
   "cell_type": "markdown",
   "id": "835cd61c",
   "metadata": {},
   "source": [
    "# Dataset setup"
   ]
  },
  {
   "cell_type": "markdown",
   "id": "07d5fb1c",
   "metadata": {},
   "source": [
    "## Size verifications"
   ]
  },
  {
   "cell_type": "code",
   "execution_count": 5,
   "id": "ac6db4f1",
   "metadata": {},
   "outputs": [],
   "source": [
    "directory = \"archive/DATASET/\"\n",
    "dimensions = []\n",
    "images = []\n",
    "\n",
    "def load_images(file_path):\n",
    "    images.append(file_path)\n",
    "\n",
    "def image_same_size():\n",
    "    for root, _, files in os.walk(directory):\n",
    "        for img in files:\n",
    "            if img.endswith('.jpg'):\n",
    "                img_path = os.path.join(root, img)\n",
    "                with Image.open(img_path) as im:\n",
    "                    if im.size not in dimensions:\n",
    "                        dimensions.append(im.size)\n",
    "                        print(f\"Size: {im.size}\")\n",
    "                load_images(img_path)\n",
    "\n",
    "image_same_size()"
   ]
  },
  {
   "cell_type": "markdown",
   "id": "7eec3199",
   "metadata": {},
   "source": [
    "## Data repartition"
   ]
  },
  {
   "cell_type": "code",
   "execution_count": null,
   "id": "3e809139",
   "metadata": {},
   "outputs": [],
   "source": [
    "# Create new directory for split dataset\n",
    "\n",
    "path_dir = \"archive/DATASET/\"\n",
    "new_path_dir = \"dataset/\"\n",
    "os.makedirs(new_path_dir, exist_ok=True)\n"
   ]
  },
  {
   "cell_type": "code",
   "execution_count": 10,
   "id": "b85955ba",
   "metadata": {},
   "outputs": [
    {
     "name": "stdout",
     "output_type": "stream",
     "text": [
      "['Ascending_Triangle', 'Descending_Triangle', 'Double_Bottom', 'Double_Top', 'Falling_Wedge', 'Rising_Wedge', 'Symmetrical_Triangle']\n"
     ]
    }
   ],
   "source": [
    "POURCENTAGE_TRAIN = 0.7\n",
    "POURCENTAGE_VAL = 0.2\n",
    "\n",
    "list_classes = os.listdir(path_dir)\n",
    "\n",
    "print(list_classes)\n",
    "\n",
    "for classe in list_classes:\n",
    "    os.makedirs(os.path.join(new_path_dir, 'train', classe), exist_ok=True)\n",
    "    os.makedirs(os.path.join(new_path_dir, 'val', classe), exist_ok=True)\n",
    "    os.makedirs(os.path.join(new_path_dir, 'test', classe), exist_ok=True)\n",
    "\n",
    "    list_images = os.listdir(os.path.join(path_dir, classe))\n",
    "    random.shuffle(list_images)\n",
    "    nb_images = len(list_images)\n",
    "    nb_train = int(nb_images * POURCENTAGE_TRAIN)\n",
    "    nb_val = int(nb_images * POURCENTAGE_VAL)\n",
    "\n",
    "    train_images = list_images[:nb_train]\n",
    "    val_images = list_images[nb_train:nb_train + nb_val]\n",
    "    test_images = list_images[nb_train + nb_val:]\n",
    "\n",
    "    for img in train_images:\n",
    "        src = os.path.join(path_dir, classe, img)\n",
    "        dst = os.path.join(new_path_dir, 'train', classe, img)\n",
    "        os.rename(src, dst)\n",
    "\n",
    "    for img in val_images:\n",
    "        src = os.path.join(path_dir, classe, img)\n",
    "        dst = os.path.join(new_path_dir, 'val', classe, img)\n",
    "        os.rename(src, dst)\n",
    "    \n",
    "    for img in test_images:\n",
    "        src = os.path.join(path_dir, classe, img)\n",
    "        dst = os.path.join(new_path_dir, 'test', classe, img)\n",
    "        os.rename(src, dst)\n"
   ]
  }
 ],
 "metadata": {
  "kernelspec": {
   "display_name": "Python 3",
   "language": "python",
   "name": "python3"
  },
  "language_info": {
   "codemirror_mode": {
    "name": "ipython",
    "version": 3
   },
   "file_extension": ".py",
   "mimetype": "text/x-python",
   "name": "python",
   "nbconvert_exporter": "python",
   "pygments_lexer": "ipython3",
   "version": "3.12.6"
  }
 },
 "nbformat": 4,
 "nbformat_minor": 5
}
